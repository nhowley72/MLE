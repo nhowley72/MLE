{
 "cells": [
  {
   "cell_type": "code",
   "execution_count": 56,
   "metadata": {},
   "outputs": [
    {
     "name": "stderr",
     "output_type": "stream",
     "text": [
      "[*********************100%***********************]  1 of 1 completed\n",
      "/var/folders/s_/kpvlk3bs5v7_vx6qt436qn400000gn/T/ipykernel_65830/2174396118.py:19: SettingWithCopyWarning: \n",
      "A value is trying to be set on a copy of a slice from a DataFrame.\n",
      "Try using .loc[row_indexer,col_indexer] = value instead\n",
      "\n",
      "See the caveats in the documentation: https://pandas.pydata.org/pandas-docs/stable/user_guide/indexing.html#returning-a-view-versus-a-copy\n",
      "  data[\"Ticker\"] = stock\n",
      "[*********************100%***********************]  1 of 1 completed\n",
      "/var/folders/s_/kpvlk3bs5v7_vx6qt436qn400000gn/T/ipykernel_65830/2174396118.py:19: SettingWithCopyWarning: \n",
      "A value is trying to be set on a copy of a slice from a DataFrame.\n",
      "Try using .loc[row_indexer,col_indexer] = value instead\n",
      "\n",
      "See the caveats in the documentation: https://pandas.pydata.org/pandas-docs/stable/user_guide/indexing.html#returning-a-view-versus-a-copy\n",
      "  data[\"Ticker\"] = stock\n",
      "[*********************100%***********************]  1 of 1 completed\n",
      "/var/folders/s_/kpvlk3bs5v7_vx6qt436qn400000gn/T/ipykernel_65830/2174396118.py:19: SettingWithCopyWarning: \n",
      "A value is trying to be set on a copy of a slice from a DataFrame.\n",
      "Try using .loc[row_indexer,col_indexer] = value instead\n",
      "\n",
      "See the caveats in the documentation: https://pandas.pydata.org/pandas-docs/stable/user_guide/indexing.html#returning-a-view-versus-a-copy\n",
      "  data[\"Ticker\"] = stock\n",
      "[*********************100%***********************]  1 of 1 completed\n",
      "/var/folders/s_/kpvlk3bs5v7_vx6qt436qn400000gn/T/ipykernel_65830/2174396118.py:19: SettingWithCopyWarning: \n",
      "A value is trying to be set on a copy of a slice from a DataFrame.\n",
      "Try using .loc[row_indexer,col_indexer] = value instead\n",
      "\n",
      "See the caveats in the documentation: https://pandas.pydata.org/pandas-docs/stable/user_guide/indexing.html#returning-a-view-versus-a-copy\n",
      "  data[\"Ticker\"] = stock\n",
      "[*********************100%***********************]  1 of 1 completed\n",
      "/var/folders/s_/kpvlk3bs5v7_vx6qt436qn400000gn/T/ipykernel_65830/2174396118.py:19: SettingWithCopyWarning: \n",
      "A value is trying to be set on a copy of a slice from a DataFrame.\n",
      "Try using .loc[row_indexer,col_indexer] = value instead\n",
      "\n",
      "See the caveats in the documentation: https://pandas.pydata.org/pandas-docs/stable/user_guide/indexing.html#returning-a-view-versus-a-copy\n",
      "  data[\"Ticker\"] = stock\n",
      "[*********************100%***********************]  1 of 1 completed\n",
      "/var/folders/s_/kpvlk3bs5v7_vx6qt436qn400000gn/T/ipykernel_65830/2174396118.py:19: SettingWithCopyWarning: \n",
      "A value is trying to be set on a copy of a slice from a DataFrame.\n",
      "Try using .loc[row_indexer,col_indexer] = value instead\n",
      "\n",
      "See the caveats in the documentation: https://pandas.pydata.org/pandas-docs/stable/user_guide/indexing.html#returning-a-view-versus-a-copy\n",
      "  data[\"Ticker\"] = stock\n",
      "[*********************100%***********************]  1 of 1 completed\n",
      "/var/folders/s_/kpvlk3bs5v7_vx6qt436qn400000gn/T/ipykernel_65830/2174396118.py:19: SettingWithCopyWarning: \n",
      "A value is trying to be set on a copy of a slice from a DataFrame.\n",
      "Try using .loc[row_indexer,col_indexer] = value instead\n",
      "\n",
      "See the caveats in the documentation: https://pandas.pydata.org/pandas-docs/stable/user_guide/indexing.html#returning-a-view-versus-a-copy\n",
      "  data[\"Ticker\"] = stock\n"
     ]
    }
   ],
   "source": [
    "import yfinance as yf\n",
    "import os\n",
    "import pandas as pd\n",
    "\n",
    "# List of stocks in the Magnificent Seven\n",
    "stocks = [\"AAPL\", \"MSFT\", \"GOOGL\", \"AMZN\", \"META\", \"NVDA\", \"TSLA\"]\n",
    "\n",
    "# Directory to save the CSV files\n",
    "output_dir = \"stock_data\"\n",
    "os.makedirs(output_dir, exist_ok=True)\n",
    "\n",
    "# Function to clean and save the data\n",
    "def save_cleaned_data(data, stock, output_path):\n",
    "    # Reset index to make 'Date' a column\n",
    "    data.reset_index(inplace=True)\n",
    "    # Ensure the order of columns is consistent\n",
    "    data = data[[\"Date\", \"Open\", \"High\", \"Low\", \"Close\", \"Volume\"]]\n",
    "    # Add the 'Ticker' column for clarity\n",
    "    data[\"Ticker\"] = stock\n",
    "    # Save to CSV without extra indices or formatting issues\n",
    "    data.to_csv(output_path, index=False)\n",
    "    data = pd.read_csv(f'{output_path}')\n",
    "    data = data.iloc[1:]\n",
    "    data.to_csv(output_path, index=False)\n",
    "\n",
    "# Download and save data for each stock\n",
    "for stock in stocks:\n",
    "    data = yf.download(stock, start=\"2015-01-01\", end=\"2025-01-01\")\n",
    "    output_path = os.path.join(output_dir, f\"{stock}.csv\")\n",
    "    save_cleaned_data(data, stock, output_path)"
   ]
  },
  {
   "cell_type": "code",
   "execution_count": null,
   "metadata": {},
   "outputs": [],
   "source": []
  }
 ],
 "metadata": {
  "kernelspec": {
   "display_name": "Python 3",
   "language": "python",
   "name": "python3"
  },
  "language_info": {
   "codemirror_mode": {
    "name": "ipython",
    "version": 3
   },
   "file_extension": ".py",
   "mimetype": "text/x-python",
   "name": "python",
   "nbconvert_exporter": "python",
   "pygments_lexer": "ipython3",
   "version": "3.11.9"
  }
 },
 "nbformat": 4,
 "nbformat_minor": 2
}
