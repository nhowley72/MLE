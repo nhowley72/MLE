{
 "cells": [
  {
   "cell_type": "code",
   "execution_count": 21,
   "metadata": {},
   "outputs": [
    {
     "name": "stdout",
     "output_type": "stream",
     "text": [
      "Processing data for AMZN...\n",
      "Saved processed data for AMZN to processed_stock_data/AMZN_processed.csv\n",
      "Processing data for MSFT...\n",
      "Saved processed data for MSFT to processed_stock_data/MSFT_processed.csv\n",
      "Processing data for NVDA...\n",
      "Saved processed data for NVDA to processed_stock_data/NVDA_processed.csv\n",
      "Processing data for TSLA...\n",
      "Saved processed data for TSLA to processed_stock_data/TSLA_processed.csv\n",
      "Processing data for GOOGL...\n",
      "Saved processed data for GOOGL to processed_stock_data/GOOGL_processed.csv\n",
      "Processing data for META...\n",
      "Saved processed data for META to processed_stock_data/META_processed.csv\n",
      "Processing data for AAPL...\n",
      "Saved processed data for AAPL to processed_stock_data/AAPL_processed.csv\n",
      "Data preprocessing complete!\n"
     ]
    }
   ],
   "source": [
    "import os\n",
    "import pandas as pd\n",
    "\n",
    "# Directory where stock data CSV files are stored\n",
    "data_dir = \"stock_data\"\n",
    "output_dir = \"processed_stock_data\"\n",
    "os.makedirs(output_dir, exist_ok=True)\n",
    "\n",
    "# Function to preprocess data for each stock\n",
    "def preprocess_stock_data(file_path):\n",
    "    # Load the stock data\n",
    "    data = pd.read_csv(file_path)\n",
    "    \n",
    "    # Ensure the Date column is a datetime object\n",
    "    data[\"Date\"] = pd.to_datetime(data[\"Date\"])\n",
    "    data.sort_values(by=\"Date\", inplace=True)\n",
    "    \n",
    "    # Create new columns\n",
    "    data[\"Daily Return\"] = data[\"Close\"].pct_change()  # Daily percentage return\n",
    "    data[\"5-Day Moving Avg\"] = data[\"Close\"].rolling(window=5).mean()  # 5-day moving average\n",
    "    data[\"10-Day Volatility\"] = data[\"Close\"].rolling(window=10).std()  # 10-day rolling standard deviation (volatility)\n",
    "    \n",
    "    # Drop rows with NaN values caused by rolling calculations\n",
    "    data.dropna(inplace=True)\n",
    "    \n",
    "    return data\n",
    "\n",
    "# Process and save each stock's data\n",
    "for file_name in os.listdir(data_dir):\n",
    "    if file_name.endswith(\".csv\"):\n",
    "        stock_file_path = os.path.join(data_dir, file_name)\n",
    "        stock_name = os.path.splitext(file_name)[0]\n",
    "        print(f\"Processing data for {stock_name}...\")\n",
    "        \n",
    "        # Preprocess the data\n",
    "        processed_data = preprocess_stock_data(stock_file_path)\n",
    "        \n",
    "        # Save the processed data\n",
    "        output_path = os.path.join(output_dir, f\"{stock_name}_processed.csv\")\n",
    "        processed_data.to_csv(output_path, index=False)\n",
    "        print(f\"Saved processed data for {stock_name} to {output_path}\")\n",
    "\n",
    "print(\"Data preprocessing complete!\")\n"
   ]
  },
  {
   "cell_type": "code",
   "execution_count": null,
   "metadata": {},
   "outputs": [],
   "source": []
  }
 ],
 "metadata": {
  "kernelspec": {
   "display_name": "Python 3",
   "language": "python",
   "name": "python3"
  },
  "language_info": {
   "codemirror_mode": {
    "name": "ipython",
    "version": 3
   },
   "file_extension": ".py",
   "mimetype": "text/x-python",
   "name": "python",
   "nbconvert_exporter": "python",
   "pygments_lexer": "ipython3",
   "version": "3.11.9"
  }
 },
 "nbformat": 4,
 "nbformat_minor": 2
}
