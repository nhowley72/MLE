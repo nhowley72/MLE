{
 "cells": [
  {
   "cell_type": "markdown",
   "metadata": {},
   "source": [
    "## Mandatory Imports"
   ]
  },
  {
   "cell_type": "code",
   "execution_count": 12,
   "metadata": {},
   "outputs": [],
   "source": [
    "import pandas as pd \n",
    "import yfinance as yf # stock data here\n",
    "import os \n",
    "from datetime import datetime"
   ]
  },
  {
   "cell_type": "markdown",
   "metadata": {},
   "source": [
    "## Defining Variables\n",
    "Just going to focus on the Mag 7 again for now. \n"
   ]
  },
  {
   "cell_type": "code",
   "execution_count": 20,
   "metadata": {},
   "outputs": [],
   "source": [
    "tikrs = ['AAPL', 'MSFT','AMZN','GOOG','TSLA','NVDA','META']\n",
    "start_date = '2015-01-01'\n",
    "end_date = datetime.now().strftime(\"%Y-%m-%d\")\n",
    "data_dir = \"./stock_data\""
   ]
  },
  {
   "cell_type": "code",
   "execution_count": 21,
   "metadata": {},
   "outputs": [],
   "source": [
    "# use the os package to make a folder just because we can! \n",
    "os.makedirs(data_dir, exist_ok=True)"
   ]
  },
  {
   "cell_type": "markdown",
   "metadata": {},
   "source": [
    "# Function to Download Stock Data\n"
   ]
  },
  {
   "cell_type": "code",
   "execution_count": 22,
   "metadata": {},
   "outputs": [],
   "source": [
    "def download_stock_data(stock, start_date, end_date):\n",
    "    data = yf.download(stock, start=start_date, end=end_date)\n",
    "    file_path = os.path.join(data_dir, f\"{stock}.csv\")\n",
    "    data.to_csv(file_path)\n",
    "    print(f\"Saved {stock} data to {file_path}\")"
   ]
  },
  {
   "cell_type": "code",
   "execution_count": 23,
   "metadata": {},
   "outputs": [
    {
     "name": "stderr",
     "output_type": "stream",
     "text": [
      "[*********************100%***********************]  1 of 1 completed\n",
      "[*********************100%***********************]  1 of 1 completed\n"
     ]
    },
    {
     "name": "stdout",
     "output_type": "stream",
     "text": [
      "Saved AAPL data to ./stock_data/AAPL.csv\n",
      "Saved MSFT data to ./stock_data/MSFT.csv\n"
     ]
    },
    {
     "name": "stderr",
     "output_type": "stream",
     "text": [
      "[*********************100%***********************]  1 of 1 completed\n",
      "[*********************100%***********************]  1 of 1 completed\n",
      "[*********************100%***********************]  1 of 1 completed\n",
      "[*********************100%***********************]  1 of 1 completed\n",
      "[*********************100%***********************]  1 of 1 completed"
     ]
    },
    {
     "name": "stdout",
     "output_type": "stream",
     "text": [
      "Saved AMZN data to ./stock_data/AMZN.csv\n",
      "Saved GOOG data to ./stock_data/GOOG.csv\n",
      "Saved TSLA data to ./stock_data/TSLA.csv\n",
      "Saved NVDA data to ./stock_data/NVDA.csv\n",
      "Saved META data to ./stock_data/META.csv\n"
     ]
    },
    {
     "name": "stderr",
     "output_type": "stream",
     "text": [
      "\n"
     ]
    }
   ],
   "source": [
    "# Download Data for Each Stock\n",
    "for stock in tikrs:\n",
    "    download_stock_data(stock, start_date, end_date)"
   ]
  }
 ],
 "metadata": {
  "kernelspec": {
   "display_name": "Python 3",
   "language": "python",
   "name": "python3"
  },
  "language_info": {
   "codemirror_mode": {
    "name": "ipython",
    "version": 3
   },
   "file_extension": ".py",
   "mimetype": "text/x-python",
   "name": "python",
   "nbconvert_exporter": "python",
   "pygments_lexer": "ipython3",
   "version": "3.11.9"
  }
 },
 "nbformat": 4,
 "nbformat_minor": 2
}
