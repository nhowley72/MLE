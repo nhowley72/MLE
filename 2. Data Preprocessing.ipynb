{
 "cells": [
  {
   "cell_type": "code",
   "execution_count": 2,
   "metadata": {},
   "outputs": [
    {
     "ename": "FileNotFoundError",
     "evalue": "[Errno 2] No such file or directory: './stock_data'",
     "output_type": "error",
     "traceback": [
      "\u001b[0;31m---------------------------------------------------------------------------\u001b[0m",
      "\u001b[0;31mFileNotFoundError\u001b[0m                         Traceback (most recent call last)",
      "Cell \u001b[0;32mIn[2], line 37\u001b[0m\n\u001b[1;32m     34\u001b[0m     \u001b[38;5;28mprint\u001b[39m(\u001b[38;5;124mf\u001b[39m\u001b[38;5;124m\"\u001b[39m\u001b[38;5;124mPreprocessed data saved to \u001b[39m\u001b[38;5;132;01m{\u001b[39;00msave_path\u001b[38;5;132;01m}\u001b[39;00m\u001b[38;5;124m\"\u001b[39m)\n\u001b[1;32m     36\u001b[0m \u001b[38;5;66;03m# Loop through all raw data files and preprocess them\u001b[39;00m\n\u001b[0;32m---> 37\u001b[0m \u001b[38;5;28;01mfor\u001b[39;00m file_name \u001b[38;5;129;01min\u001b[39;00m \u001b[43mos\u001b[49m\u001b[38;5;241;43m.\u001b[39;49m\u001b[43mlistdir\u001b[49m\u001b[43m(\u001b[49m\u001b[43minput_dir\u001b[49m\u001b[43m)\u001b[49m:\n\u001b[1;32m     38\u001b[0m     \u001b[38;5;28;01mif\u001b[39;00m file_name\u001b[38;5;241m.\u001b[39mendswith(\u001b[38;5;124m\"\u001b[39m\u001b[38;5;124m.csv\u001b[39m\u001b[38;5;124m\"\u001b[39m):\n\u001b[1;32m     39\u001b[0m         input_path \u001b[38;5;241m=\u001b[39m os\u001b[38;5;241m.\u001b[39mpath\u001b[38;5;241m.\u001b[39mjoin(input_dir, file_name)\n",
      "\u001b[0;31mFileNotFoundError\u001b[0m: [Errno 2] No such file or directory: './stock_data'"
     ]
    }
   ],
   "source": [
    "import pandas as pd\n",
    "import os\n",
    "\n",
    "# Directory containing the raw stock data\n",
    "input_dir = \"./stock_data\"\n",
    "output_dir = \"preprocessed_stock_data\"\n",
    "os.makedirs(output_dir, exist_ok=True)\n",
    "\n",
    "# Preprocessing configuration\n",
    "missing_value_strategy = \"ffill\"  # Options: 'ffill' (forward fill), 'bfill', 'drop'\n",
    "\n",
    "# Function to preprocess a single stock's data\n",
    "def preprocess_stock_data(file_path, save_path):\n",
    "    print(f\"Preprocessing {file_path}...\")\n",
    "    # Load the raw data\n",
    "    data = pd.read_csv(file_path, index_col=\"Date\", parse_dates=True)\n",
    "    \n",
    "    # Handle missing values\n",
    "    if missing_value_strategy == \"ffill\":\n",
    "        data = data.fillna(method=\"ffill\")\n",
    "    elif missing_value_strategy == \"bfill\":\n",
    "        data = data.fillna(method=\"bfill\")\n",
    "    elif missing_value_strategy == \"drop\":\n",
    "        data = data.dropna()\n",
    "    \n",
    "    # Feature engineering (example: calculate daily returns)\n",
    "    data[\"Daily Return\"] = data[\"Adj Close\"].pct_change()\n",
    "    \n",
    "    # Drop rows with NaN values resulting from pct_change\n",
    "    data = data.dropna()\n",
    "    \n",
    "    # Save the preprocessed data\n",
    "    data.to_csv(save_path)\n",
    "    print(f\"Preprocessed data saved to {save_path}\")\n",
    "\n",
    "# Loop through all raw data files and preprocess them\n",
    "for file_name in os.listdir(input_dir):\n",
    "    if file_name.endswith(\".csv\"):\n",
    "        input_path = os.path.join(input_dir, file_name)\n",
    "        stock_name = file_name.split(\".\")[0]\n",
    "        output_path = os.path.join(output_dir, f\"{stock_name}_preprocessed.csv\")\n",
    "        preprocess_stock_data(input_path, output_path)\n",
    "\n",
    "print(\"Data preprocessing complete! Preprocessed files are saved.\")\n"
   ]
  },
  {
   "cell_type": "code",
   "execution_count": null,
   "metadata": {},
   "outputs": [],
   "source": []
  }
 ],
 "metadata": {
  "kernelspec": {
   "display_name": "Python 3",
   "language": "python",
   "name": "python3"
  },
  "language_info": {
   "codemirror_mode": {
    "name": "ipython",
    "version": 3
   },
   "file_extension": ".py",
   "mimetype": "text/x-python",
   "name": "python",
   "nbconvert_exporter": "python",
   "pygments_lexer": "ipython3",
   "version": "3.11.9"
  }
 },
 "nbformat": 4,
 "nbformat_minor": 2
}
